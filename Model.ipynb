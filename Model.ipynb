{
 "cells": [
  {
   "cell_type": "code",
   "execution_count": null,
   "metadata": {},
   "outputs": [],
   "source": [
    "X = train[[col for col in train.columns.values if col not in ['item_name', 'item_category_name', 'shop_name', 'item_cnt_month', 'item_cnt_prev_month', 'item_cnt_month_mean']]].fillna(0)\n",
    "\n",
    "y = train['item_cnt_month'].fillna(0)\n",
    "\n",
    "list_training = list(X['date_block_num']<33)\n",
    "list_testing = list(X['date_block_num']==33)\n",
    "\n",
    "X_train2 = X[X['date_block_num']<33]\n",
    "y_train2 = y[list_training].fillna(0)\n",
    "X_test2 = X[X['date_block_num']==33]\n",
    "y_test2 = y[list_testing].fillna(0)"
   ]
  },
  {
   "cell_type": "code",
   "execution_count": null,
   "metadata": {},
   "outputs": [],
   "source": [
    "reg = ExtraTreesRegressor(n_estimators=25, n_jobs=-1, max_depth=15, random_state=42)\n",
    "reg.fit(X_train2, y_train2)\n",
    "\n",
    "y_train_pred = reg.predict(X_train2)\n",
    "y_test_pred = reg.predict(X_test2)\n",
    "\n",
    "rmse_train = np.sqrt(mean_squared_error(y_train2, y_train_pred))\n",
    "rmse_test = np.sqrt(mean_squared_error(y_test2, y_test_pred))\n",
    "\n",
    "print('rmse_train:', rmse_train)\n",
    "print('rmse_test:', rmse_test)"
   ]
  },
  {
   "cell_type": "code",
   "execution_count": null,
   "metadata": {},
   "outputs": [],
   "source": [
    "rf_reg2 = RandomForestRegressor(n_estimators=25, max_depth=10, random_state=42)\n",
    "rf_reg2.fit(X_train2, y_train2)\n",
    "\n",
    "y_train2_pred = rf_reg2.predict(X_train2)\n",
    "y_test2_pred = rf_reg2.predict(X_test2)"
   ]
  },
  {
   "cell_type": "code",
   "execution_count": null,
   "metadata": {},
   "outputs": [],
   "source": [
    "rmse_train2 = np.sqrt(mean_squared_error(y_train2, y_train2_pred))\n",
    "rmse_test2 = np.sqrt(mean_squared_error(y_test2, y_test2_pred))\n",
    "\n",
    "print('rmse_train:', rmse_train2)\n",
    "print('rmse_test:', rmse_test2)"
   ]
  },
  {
   "cell_type": "code",
   "execution_count": null,
   "metadata": {},
   "outputs": [],
   "source": [
    "df_test2 = df_test[[col for col in X_train2.columns.values]].fillna(0)\n",
    "test_pred = reg.predict(df_test2)"
   ]
  },
  {
   "cell_type": "code",
   "execution_count": null,
   "metadata": {},
   "outputs": [],
   "source": [
    "a"
   ]
  }
 ],
 "metadata": {
  "kernelspec": {
   "display_name": "Python 3",
   "language": "python",
   "name": "python3"
  },
  "language_info": {
   "codemirror_mode": {
    "name": "ipython",
    "version": 3
   },
   "file_extension": ".py",
   "mimetype": "text/x-python",
   "name": "python",
   "nbconvert_exporter": "python",
   "pygments_lexer": "ipython3",
   "version": "3.8.2"
  }
 },
 "nbformat": 4,
 "nbformat_minor": 4
}
